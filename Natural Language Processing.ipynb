{
 "cells": [
  {
   "cell_type": "markdown",
   "metadata": {},
   "source": [
    "# Natural Language Processing | Jasamrit Rahala\n",
    "\n",
    "---\n",
    "\n",
    "Natural language processing or NLP is a wide branched area of AI that surrounds us everyday, from the autocomplete on your phones, to your searches on youtube. NLP is a blanket term that can relate to several AI techniques. We will focus on three of these techniques in this notebook:\n",
    "\n",
    "- Markov Chains [Text generation]\n",
    "- Naive Bayes [Text classification]\n",
    "- Text preprocessing [Stop words, lemmatization, N-Grams, TF-IDF]\n",
    "\n",
    "We will be using a minimum number of libraries to reinforce the maths and processes going behind the scenes, hopefully demistifying NLP. __Please work through this notebook at your own pace and ask any questions you may have on the discord.__ \n",
    "\n",
    "Github (useful links + resources) : https://github.com/JRahala\n",
    "\n",
    "Thanks Jam"
   ]
  },
  {
   "cell_type": "markdown",
   "metadata": {},
   "source": [
    "## Markov Chains | Text generation\n",
    "---\n",
    "Markov chains are based on the idea of dependent states. That is to say, __my current state is entirely dependent on the previous state I was in__. This idea is known as the __markov property__. Any system which can be modelled using this restraint can be modelled as a __markov chain__.\n",
    "\n",
    "A __markov chain__ is a collection of states and probabilities of moving from one state to another. A very basic example of a markov chain could be the weather. The weather can either be raining or not. In this case there are two states. Now that we have established the states, we can assign transfer probabilities. \n",
    "\n",
    "- Assuming that the weather is raining we have a 10% chance of moving to a non-raining state and a 90% chance of continuing to rain. \n",
    "- Assuming that the weather is not raining we have a 40% chance of moving to a raining state and a 60% chance of continuing to not rain\n",
    "\n",
    "Below is the following markov chain visualised\n",
    "\n",
    "![Image](https://raw.githubusercontent.com/JRahala/tempStorage/master/Raining%20demo.png)\n",
    "\n",
    "\n",
    "Ok so 'How does this relate to text __generation__?' you may ask. Since we have probabilities and states, we can start in any given state and walk along a path for n words or however long we want to until we reach a stop condition. Let's build a basic model of a markov chain using some probabilities for weather and build a simple weather forecaster.\n",
    "\n",
    "\n",
    "### Weather forecasting | Basic example\n",
    "---\n",
    "\n",
    "In the example below I define weather as being in one of three states: [sunny, raining, cloudy]. Each state has a likelihood of trainsferring from one state to the next. This information is represented as 2D array, known as a transfer matrix. The first line represents __transfers from__ a sunny state, the second represents a raining state, the last represents a cloudy state. Going from left to right we are representing a __transfer to__ the sunny, raining and cloudy states accordingly. For example there is a 20% chance of going from a sunny to a cloudy state. i.e. row 0, col 2 or data[0][2]\n",
    "\n",
    "\n",
    "The walking algorithm is reasonably simple. We use our current state (by default the sunny state) and generate a random number which is used to pick the next state. The __random.choices() function allows us to do choose random items in a array given weights__. Syntax is random.choices(array_to_choose_from, weights = array_of_weights, k = number_of_items_picked)[0]. Note that this returns a tuple since k will repeat this process (without affecting probabilities), therefore the subscript[0] is added to unpack the tuple to an integer.\n"
   ]
  },
  {
   "cell_type": "code",
   "execution_count": 1,
   "metadata": {},
   "outputs": [
    {
     "name": "stdout",
     "output_type": "stream",
     "text": [
      "Day 0 | weather - sunny...\n",
      "Day 1 | weather - sunny...\n",
      "Day 2 | weather - raining...\n",
      "Day 3 | weather - cloudy...\n",
      "Day 4 | weather - sunny...\n",
      "Day 5 | weather - sunny...\n",
      "Day 6 | weather - sunny...\n",
      "Day 7 | weather - sunny...\n",
      "Day 8 | weather - raining...\n",
      "Day 9 | weather - sunny...\n"
     ]
    }
   ],
   "source": [
    "import random\n",
    "\n",
    "data = [    \n",
    "    [50, 30, 20], # weather is sunny\n",
    "    [20, 10, 70], # weather is raining\n",
    "    [45, 5, 40]] # weather is cloudy\n",
    "\n",
    "states = ['sunny', 'raining', 'cloudy']\n",
    "\n",
    "current_state = 0\n",
    "for day in range(10):\n",
    "    current_state = random.choices([0,1,2], weights = data[current_state], k = 1)[0]\n",
    "    \n",
    "    print(f'Day {day} | weather - {states[current_state]}...')"
   ]
  },
  {
   "cell_type": "markdown",
   "metadata": {},
   "source": [
    "Now that we understand how a markov chain can be used, how can we generate one? (nevermind using text!)\n",
    "\n",
    "### Markov Chains | Importing data\n",
    "---\n",
    "\n",
    "Inorder to train a Markov Chain we will need some data. For the purposes of demonstration I am using the book 'Jane Eyre'. The data was taken from the Project Gutenberg website https://www.gutenberg.org/files/1260/1260-h/1260-h.htm. To use this data I am going to use the requests library. If you don't understand how requests work, do not worry (in short it is simply requesting data from a website, I have hosted parts of the book on github so that I can easily request the data using python)."
   ]
  },
  {
   "cell_type": "code",
   "execution_count": 2,
   "metadata": {},
   "outputs": [
    {
     "data": {
      "text/plain": [
       "'CHAPTER I\\r\\nThere was no possibility of taking a walk that day.  We had been wandering, indeed, in th'"
      ]
     },
     "execution_count": 2,
     "metadata": {},
     "output_type": "execute_result"
    }
   ],
   "source": [
    "# import the requests module and set the url we want to retrieve data from\n",
    "\n",
    "import requests\n",
    "import random\n",
    "\n",
    "url = 'https://raw.githubusercontent.com/JRahala/tempStorage/master/JaneEyre.txt'\n",
    "\n",
    "\n",
    "# request the data and print of the first 100 characters of the data\n",
    "\n",
    "data = requests.get(url).text\n",
    "data[:100]"
   ]
  },
  {
   "cell_type": "markdown",
   "metadata": {},
   "source": [
    "Above you can see the first 100 characters of Jane Eyre, you might notice the strange \\n and \\r marks. These are for formatting text so we can get rid of these by using the replace function."
   ]
  },
  {
   "cell_type": "code",
   "execution_count": 3,
   "metadata": {},
   "outputs": [
    {
     "data": {
      "text/plain": [
       "'CHAPTER I  There was no possibility of taking a walk that day.  We had been wandering, indeed, in th'"
      ]
     },
     "execution_count": 3,
     "metadata": {},
     "output_type": "execute_result"
    }
   ],
   "source": [
    "data = data.replace('\\n', ' ')\n",
    "data = data.replace('\\r', ' ')\n",
    "\n",
    "data[:100]"
   ]
  },
  {
   "cell_type": "markdown",
   "metadata": {},
   "source": [
    "Now that the strange marks have disappeared we can start with creating our Markov Chain. In this chain we will be using letters as a state and every succeeding letter will act as a possible nextState for the current letter. In this example I will use an object oriented approach (rather than a matrix like before) so let's set up a state class.\n",
    "\n",
    "### Makov Chains | State Class\n",
    "---\n",
    "\n",
    "Our state class will need the following functionality:\n",
    "\n",
    "- __init__()\n",
    "- __update__(nextState) \n",
    "- __choose__() \n",
    "\n",
    "States require a value to store the letter and a dictionary containing the [new state] and probability of moving to that state"
   ]
  },
  {
   "cell_type": "code",
   "execution_count": 4,
   "metadata": {},
   "outputs": [
    {
     "name": "stdout",
     "output_type": "stream",
     "text": [
      "{'c': 2, 'a': 1}\n"
     ]
    }
   ],
   "source": [
    "class State:\n",
    "    \n",
    "    Instances = {}\n",
    "    \n",
    "    def __init__(self, letter):\n",
    "        \n",
    "        State.Instances[letter] = self\n",
    "        \n",
    "        self.letter = letter\n",
    "        self.links = {}\n",
    "        \n",
    "    def update(self, newState):\n",
    "        \n",
    "        if not newState in self.links:\n",
    "            self.links[newState] = 0\n",
    "            \n",
    "        self.links[newState] += 1\n",
    "    \n",
    "    def choose(self):\n",
    "        \n",
    "        choice = random.random()\n",
    "        \n",
    "        probabilities = list(self.links.values())\n",
    "        words = list(self.links.keys())\n",
    "\n",
    "        return random.choices(words, probabilities, k = 1)[0]\n",
    "        \n",
    "\n",
    "A = State('a')\n",
    "B = State('b')\n",
    "C = State('c')\n",
    "\n",
    "B.update('c')\n",
    "B.update('c')\n",
    "B.update('a')\n",
    "\n",
    "print(B.links)\n"
   ]
  },
  {
   "cell_type": "markdown",
   "metadata": {},
   "source": [
    "Above I have created 3 states relating to the letters 'abc'. \n",
    "\n",
    "#### Updating states\n",
    "\n",
    "I updated the B state with the A and the C states. When I update states I update the dictionary stored within each state object. When B is updated with state A, the key relating to A, is increased by 1. If no key exists it is set to 0 and then increased by 1. \n",
    "\n",
    "#### Choosing the next state\n",
    "\n",
    "When we are choosing are next state from a current state, we use the random.choices function to make a random weighted selection. For example the chances of choosing C after being in state B are twice as large as moving to state A. This is because we updated B with state C twice whereas we only update B with state A once. So B.links looks like {'c': 2, 'a': 1}. By using the keys and values as arguments for the random.choices function we can choose C as the next state 2/3 times and choose A as the next state 1/3 times. Below I test out the the ratios returned by the choose function"
   ]
  },
  {
   "cell_type": "code",
   "execution_count": 5,
   "metadata": {},
   "outputs": [
    {
     "name": "stdout",
     "output_type": "stream",
     "text": [
      "661 339\n"
     ]
    }
   ],
   "source": [
    "Cs = 0\n",
    "As = 0\n",
    "\n",
    "for i in range(1000):\n",
    "    if 'c' == B.choose(): Cs += 1\n",
    "    else: As += 1\n",
    "\n",
    "print(Cs, As)"
   ]
  },
  {
   "cell_type": "markdown",
   "metadata": {},
   "source": [
    "As expected, C was chosen twice as much as A as the next state, this verifys our choose function.\n",
    "\n",
    "### Markov Chains | Linking this together\n",
    "---\n",
    "\n",
    "Now that we have established a simple state class we can begin to use the data we have stored. First we split the data up into individual letters. Create states using those letters and update them with the relevant succeeding letters. For example in the sentence, 'A boy wore a hat'. \n",
    "\n",
    "- We create the 'A' state and update it with a ' '\n",
    "- create the ' ' state and update it with a 'b'\n",
    "- then create the 'b' class and update it with a 'o' \n",
    "\n",
    "and so on."
   ]
  },
  {
   "cell_type": "code",
   "execution_count": 6,
   "metadata": {},
   "outputs": [],
   "source": [
    "# split up the data letter by letter, for the sake of complexity I will also transform all letters into lowercase\n",
    "data = list([x.lower() for x in data])\n",
    "data.append('.')\n",
    "\n",
    "# iteratively go through the data\n",
    "for i in range(len(data) - 1):\n",
    "\n",
    "    if not data[i] in State.Instances:\n",
    "        State(data[i])\n",
    "        \n",
    "    currentState = State.Instances[data[i]]\n",
    "    currentState.update(data[i+1])"
   ]
  },
  {
   "cell_type": "markdown",
   "metadata": {},
   "source": [
    "Above we have created the Markov Chain objects and updated each object with the next letter. We can now do some iteration to produce some output based on a starting node. I arbitrarily chose 'a'."
   ]
  },
  {
   "cell_type": "code",
   "execution_count": 7,
   "metadata": {},
   "outputs": [
    {
     "name": "stdout",
     "output_type": "stream",
     "text": [
      " ay ab t  cc   ssa  tw  tlo  l   g iytgit siw  slsstsdal i fsnanw myp  rl  fi mtsiiwiwwl  h(iow ittw"
     ]
    }
   ],
   "source": [
    "currentNode = 'a'\n",
    "depth = 100\n",
    "\n",
    "while depth>0 and currentNode in State.Instances:\n",
    "    currentNode = State.Instances[currentNode]\n",
    "    currentNode = currentState.choose()\n",
    "    print(currentNode, end = '')\n",
    "    depth -= 1"
   ]
  },
  {
   "cell_type": "markdown",
   "metadata": {},
   "source": [
    "The liklihood is that you will get some garbage produced above. This is because our model doesnt have enough context when choosing the next letter to go to. To counter this we will use something known as n-grams. Note: __It might be worth experimenting with words as states rather than letters__\n",
    "\n",
    "### Markov Chains | N-Grams\n",
    "---\n",
    "\n",
    "N-Gram allow our model to have more context by using n-letters as a state, opposed to one letter. We were simply using unigrams (n = 1). This doesn't provide our model with much context. We can experiment with different values for n. Below I have reformated the code to accept any n."
   ]
  },
  {
   "cell_type": "code",
   "execution_count": 8,
   "metadata": {},
   "outputs": [
    {
     "name": "stdout",
     "output_type": "stream",
     "text": [
      "START: -an-hour we never spoke; neither of you know where i was; gateshead and its daily luxuries.    chapter xxxvii "
     ]
    }
   ],
   "source": [
    "State.Instances = {}\n",
    "\n",
    "def train(data, n = 3):\n",
    "    \n",
    "    data.append('.')\n",
    "    for i in range(len(data) - 1 - n):\n",
    "        \n",
    "        n_gram = ''.join(data[i:i+n])\n",
    "        \n",
    "        if not n_gram in State.Instances:\n",
    "            State(n_gram)\n",
    "\n",
    "        currentState = State.Instances[n_gram]\n",
    "        currentState.update(data[i+n])\n",
    "        \n",
    "        \n",
    "train(data, 10)\n",
    "current_key = random.choice(list(State.Instances.keys()))\n",
    "\n",
    "\n",
    "print('START:', current_key, end = '')\n",
    "depth = 100\n",
    "\n",
    "while current_key in State.Instances and depth > 0:\n",
    "    \n",
    "    currentState = State.Instances[current_key]\n",
    "    new_letter = currentState.choose()\n",
    "    \n",
    "    print(new_letter, end = '')\n",
    "    \n",
    "    current_key = current_key[1:] + new_letter\n",
    "    depth -= 1"
   ]
  },
  {
   "cell_type": "markdown",
   "metadata": {},
   "source": [
    "Hopefully when you run the above code, you should see a comprehensible sentence. By changing the depth and n, you will get varying degrees of success. You may wonder __why cant I set really large if it gives my model more context?__. This is a fair point, however too much context just becomes too specific. If I am scanning the book for a 50 character long string, then there will only be so many exact 50 character strings until you just start to repeat the novel, word for word. \n",
    "\n",
    "By varying training data you can get very different and rather funny sentences produced in the style of a certain author. Text generation is an amusing use case however there are many other uses for markov chains including:\n",
    "\n",
    "- analysing stocks\n",
    "- generating music \n",
    "- genetic networks\n",
    "- DNA sequences\n",
    "\n",
    "Markov chains in the academic fields are used to simulate or study 'random' or stochastic processes and can model practically anything that fits the Markov property. __The probability of event (x) happening is instantaneous (doesnt depend on previous states)__. Of course this isn't entirely true however we can model such systems fairly accurately with a quick processing time. __Perhaps, as an extension, you could try and replace the text with stock prices for companies or incorporate more advanced text processing techniques into the chain?__"
   ]
  },
  {
   "cell_type": "markdown",
   "metadata": {},
   "source": [
    "## Naive Bayes\n",
    "---\n",
    "\n",
    "Naive bayes classification is based on the bayes theorem, defined below. This is the formula for conditional probability. i.e. the probability of an event based on the prior knowledge of the conditions that might be related to the event.\n",
    "\n",
    "<br>\n",
    "\n",
    "$$ P(A|B) = \\frac{P(B|A) \\cdot P(A)}{P(B)} $$\n",
    "\n",
    "<br>\n",
    "\n",
    "$$ \\frac{P(B|A) \\cdot P(A)}{P(A) \\cdot P(B|A) + P( \\neg A) \\cdot P(B| \\neg A)} $$\n",
    "\n",
    "<br>\n",
    "\n",
    "By using this theorem we can calculate the probabilities of text data being a member of a certain class, in our case this means whether a news article is under: tech, business, sport, entertainment or politics. For this model I will be using a dataset found under here https://raw.githubusercontent.com/JRahala/tempStorage/master/bbc-text-short.csv"
   ]
  },
  {
   "cell_type": "markdown",
   "metadata": {},
   "source": [
    "### Naive Bayes | Importing data\n",
    "---\n",
    "\n",
    "Once again I am using the requests module to retrive my data, since my data is a csv I will have to parse the data retrieved a little. This step is not crucial to understand."
   ]
  },
  {
   "cell_type": "code",
   "execution_count": 9,
   "metadata": {},
   "outputs": [
    {
     "name": "stdout",
     "output_type": "stream",
     "text": [
      "('category', 'text')\n",
      "('tech', 'tv future in the hands of viewers with home theatr')\n"
     ]
    }
   ],
   "source": [
    "import requests\n",
    "url = 'https://raw.githubusercontent.com/JRahala/tempStorage/master/bbc-text-short.csv'\n",
    "\n",
    "data = requests.get(url).text\n",
    "result = []\n",
    "\n",
    "for line in data.splitlines():\n",
    "    result.append(tuple(line.split(\",\")))\n",
    "    \n",
    "headings = result[0]\n",
    "result = result[1:]\n",
    "\n",
    "print(headings)\n",
    "print((result[0][0], result[0][1][:50]))"
   ]
  },
  {
   "cell_type": "markdown",
   "metadata": {},
   "source": [
    "Now I have my data stored in the results array. We can start to create the NaiveBayes classifier class."
   ]
  },
  {
   "cell_type": "code",
   "execution_count": 10,
   "metadata": {},
   "outputs": [
    {
     "data": {
      "text/plain": [
       "dict_keys(['tech', 'business', 'sport', 'entertainment', 'politics'])"
      ]
     },
     "execution_count": 10,
     "metadata": {},
     "output_type": "execute_result"
    }
   ],
   "source": [
    "class NaiveBayes:\n",
    "    \n",
    "    def __init__(self):\n",
    "        \n",
    "        self.categories = {}\n",
    "    \n",
    "    def add_category(self, categoryName):\n",
    "        \n",
    "        self.categories[categoryName] = []\n",
    "        \n",
    "    def add_data(self, data):\n",
    "        \n",
    "        for example in data:\n",
    "            \n",
    "            category = example[0]\n",
    "            article = example[1]\n",
    "            \n",
    "            if not category in self.categories:\n",
    "                self.add_category(category)\n",
    "                \n",
    "            self.categories[category].append(article)\n",
    "            \n",
    "\n",
    "model = NaiveBayes()\n",
    "model.add_data(result)\n",
    "model.categories.keys()"
   ]
  },
  {
   "cell_type": "markdown",
   "metadata": {},
   "source": [
    "Above I am adding some training data to the classifier. You can go ahead and split the data into training and testing data if you want, it shouldn't make too much of a difference, given the nature of naive bayes classifiers. In the add_category function, I am simply creating an array for each category that is new. This array will hold all the articles for that specific category. I check the categories that my Naive Bayes has at the bottom. \n",
    "\n",
    "### Probabilities\n",
    "---\n",
    "\n",
    "Now that the basic skeleton of the model is set up we can start adding in the probability functions. In case you were confused with the whole Naive Bayes mathematics, here is a very useful video (that I based my explanation of) that can hopefully explain the bayes theorem in a simple way.\n",
    "\n",
    "https://www.youtube.com/embed/HZGCoVF3YvM\n",
    "\n",
    "Below I just calculate the probablity of an article being of a specific category. We just count how many articles exists and how many articles are of each category. We turn these numbers into proportions and we are done."
   ]
  },
  {
   "cell_type": "code",
   "execution_count": 11,
   "metadata": {},
   "outputs": [
    {
     "name": "stdout",
     "output_type": "stream",
     "text": [
      "[('tech', 0.17617617617617617), ('business', 0.23523523523523523), ('sport', 0.23623623623623624), ('entertainment', 0.17217217217217218), ('politics', 0.18018018018018017)]\n"
     ]
    },
    {
     "data": {
      "text/plain": [
       "1.0"
      ]
     },
     "execution_count": 11,
     "metadata": {},
     "output_type": "execute_result"
    }
   ],
   "source": [
    "def p_category(self, category):\n",
    "    \n",
    "    return len(self.categories[category]) / sum(len(self.categories[category]) for category in self.categories)\n",
    "\n",
    "NaiveBayes.p_category = p_category\n",
    "\n",
    "probability_given_category = [(category, model.p_category(category)) for category in list(model.categories.keys())]\n",
    "print(probability_given_category)\n",
    "\n",
    "sum(x[1] for x in probability_given_category)"
   ]
  },
  {
   "cell_type": "markdown",
   "metadata": {},
   "source": [
    "Above you can see that the probabilities sum up to 1 therefore the algorithm works. Now we can work out the probability of a word being in a certain category. We do this by counting up the number of unique words in that category and the number of times our word appears in this category's dataset."
   ]
  },
  {
   "cell_type": "code",
   "execution_count": 12,
   "metadata": {},
   "outputs": [],
   "source": [
    "def word_given_category(self, word, category):\n",
    "    \n",
    "    all_words = sum(len(x.split()) for x in self.categories[category])\n",
    "    matches = sum(x.count(word) for x in self.categories[category])\n",
    "    \n",
    "    return matches / all_words\n",
    "\n",
    "NaiveBayes.word_given_category = word_given_category # add this method to our NaiveBayes class"
   ]
  },
  {
   "cell_type": "markdown",
   "metadata": {},
   "source": [
    "Now we can get the probability of a specific word appearing in a given category. I should note something about data processing. An example is shown below."
   ]
  },
  {
   "cell_type": "code",
   "execution_count": 13,
   "metadata": {},
   "outputs": [
    {
     "name": "stdout",
     "output_type": "stream",
     "text": [
      "[('tech', 0.0021596580354944833), ('business', 0.00012672504467057825), ('sport', 6.288833547153674e-05), ('entertainment', 0.0018524699599465956), ('politics', 0.00011532296195495485)]\n",
      "[('tech', 0.0), ('business', 0.0), ('sport', 0.0), ('entertainment', 0.0), ('politics', 0.0)]\n"
     ]
    }
   ],
   "source": [
    "probability_given_category = [(category, model.word_given_category('tv', category)) for category in list(model.categories.keys())]\n",
    "print(probability_given_category)\n",
    "\n",
    "probability_given_category = [(category, model.word_given_category('TV', category)) for category in list(model.categories.keys())]\n",
    "print(probability_given_category)"
   ]
  },
  {
   "cell_type": "markdown",
   "metadata": {},
   "source": [
    "When I run the cell above, I am requesting the probability of the phrase 'TV' given the categories and the probability of the phrase 'tv' given the categories. The results are printed above. When I used the lowercase 'tv' I recieved reasonable probabilities for each category however when I use the uppercase 'TV' all probabilities are set to 0. This means that 'TV' never appears in our data. This problem can spill over into other words, therefore it is best for us to transform all our data into lowercase, to make it easier to work with."
   ]
  },
  {
   "cell_type": "code",
   "execution_count": 14,
   "metadata": {},
   "outputs": [],
   "source": [
    "data = [(x[0], x[1].lower()) for x in result] # lower case data"
   ]
  },
  {
   "cell_type": "markdown",
   "metadata": {},
   "source": [
    "We can now construct the whole categorise method. By looping over all the possible categories we can use the bayes theroem and calculate the product of the word_given_category() * p_category() for each word. This will produce numbers for each categories, we can turn these numbers into probabilities by dividing by the sum of all probabilities for each category. Below is the function."
   ]
  },
  {
   "cell_type": "code",
   "execution_count": 15,
   "metadata": {},
   "outputs": [
    {
     "name": "stdout",
     "output_type": "stream",
     "text": [
      "TEST DATA | tv future in the hands of viewers with home theatre systems  plasma high-definition tvs  and digital video recorders moving into the living room  the way people watch tv will be radically different in \n",
      "\n",
      "FINISHED : tech\n",
      "FINISHED : business\n",
      "FINISHED : sport\n",
      "FINISHED : entertainment\n",
      "FINISHED : politics\n"
     ]
    },
    {
     "data": {
      "text/plain": [
       "{'tech': 1.0,\n",
       " 'business': 0.0,\n",
       " 'sport': 0.0,\n",
       " 'entertainment': 0.0,\n",
       " 'politics': 0.0}"
      ]
     },
     "execution_count": 15,
     "metadata": {},
     "output_type": "execute_result"
    }
   ],
   "source": [
    "\n",
    "def categorise(self, phrase):\n",
    "    \n",
    "    probabilities = {}\n",
    "    \n",
    "    for category in list(self.categories.keys()):\n",
    "        probabilities[category] = 1\n",
    "        \n",
    "        for word in phrase.split():\n",
    "            probabilities[category] *= self.word_given_category(word, category) * self.p_category(category)\n",
    "        \n",
    "        print(f'FINISHED : {category}')\n",
    "        \n",
    "    total_probability = sum(probabilities[category] for category in list(self.categories.keys()))\n",
    "    \n",
    "    for category in probabilities:\n",
    "        probabilities[category] /= total_probability\n",
    "        \n",
    "    return probabilities\n",
    "\n",
    "\n",
    "NaiveBayes.categorise = categorise\n",
    "\n",
    "print('TEST DATA |', result[0][1][:200], '\\n')\n",
    "model.categorise(result[0][1][:200])"
   ]
  },
  {
   "cell_type": "markdown",
   "metadata": {},
   "source": [
    "Above we test the algorithm by passing in the first sentence of our dataset. I used the first 200 characters, hence the [:200] because our algorithm is pretty inefficient (we dont store values, we calculate them on the fly). We can test the classifier using custom data as well, shown below."
   ]
  },
  {
   "cell_type": "code",
   "execution_count": 16,
   "metadata": {},
   "outputs": [
    {
     "name": "stdout",
     "output_type": "stream",
     "text": [
      "FINISHED : tech\n",
      "FINISHED : business\n",
      "FINISHED : sport\n",
      "FINISHED : entertainment\n",
      "FINISHED : politics\n"
     ]
    },
    {
     "data": {
      "text/plain": [
       "{'tech': 0.8756354678743777,\n",
       " 'business': 0.1232755550288938,\n",
       " 'sport': 0.0,\n",
       " 'entertainment': 0.0,\n",
       " 'politics': 0.0010889770967286562}"
      ]
     },
     "execution_count": 16,
     "metadata": {},
     "output_type": "execute_result"
    }
   ],
   "source": [
    "model.categorise('technology is always changing and due to rapid development of the way we think about') # example data"
   ]
  },
  {
   "cell_type": "code",
   "execution_count": 17,
   "metadata": {},
   "outputs": [
    {
     "name": "stdout",
     "output_type": "stream",
     "text": [
      "FINISHED : tech\n",
      "FINISHED : business\n",
      "FINISHED : sport\n",
      "FINISHED : entertainment\n",
      "FINISHED : politics\n"
     ]
    },
    {
     "data": {
      "text/plain": [
       "{'tech': 0.048962803669511765,\n",
       " 'business': 0.7013455722487103,\n",
       " 'sport': 0.0348169203765133,\n",
       " 'entertainment': 0.1667113638302523,\n",
       " 'politics': 0.04816333987501238}"
      ]
     },
     "execution_count": 17,
     "metadata": {},
     "output_type": "execute_result"
    }
   ],
   "source": [
    "model.categorise('m & s') # example data"
   ]
  },
  {
   "cell_type": "markdown",
   "metadata": {},
   "source": [
    "You might notice that if you test the classifier with characters that aren't included in the training dataset, then the algorithm crashes because of a division by zero error. To get past this error we can use laplace smoothing.\n",
    "\n",
    "Laplace smoothing is described in this link. In terms of coding this means, when we calculate the word_given_category(), we add 1 to the numerator and add x to the denominator, where x = the number of unique words in the training data. You can try and implement a laplace smoothed version of word_given_category below."
   ]
  },
  {
   "cell_type": "code",
   "execution_count": 18,
   "metadata": {},
   "outputs": [],
   "source": [
    "def word_given_category(self, word, category):\n",
    "    \n",
    "    all_words = sum(len(x.split()) for x in self.categories[category])\n",
    "    matches = sum(x.count(word) for x in self.categories[category])\n",
    "    \n",
    "    return matches / all_words # what can you add here !!!\n",
    "\n",
    "NaiveBayes.word_given_category = word_given_category # add this method to our NaiveBayes class\n",
    "\n",
    "# feel free to try out the new method with some test text"
   ]
  },
  {
   "cell_type": "markdown",
   "metadata": {},
   "source": [
    "This sums up the naive bayes classification technique. Now that you understand how to create the python class, you have hopefully gained an understanding of how naive bayes is used and in what situations you could use this technique. As well as this you now know one of the most important theorems in probability, the bayes theorem. If you read on to the next chapter I should be going over an implementation of naive bayes using the sklearn library, this is something you would want to use in development or deployment."
   ]
  },
  {
   "cell_type": "markdown",
   "metadata": {},
   "source": [
    "## Processing and using Sklearn\n",
    "\n",
    "Please have a look at this tutorial online to learn how to use sklearn to build upon your existing nlp knowledge.\n",
    "\n",
    "https://scikit-learn.org/stable/tutorial/text_analytics/working_with_text_data.html\n",
    "\n",
    "Thanks,\n",
    "Jam"
   ]
  }
 ],
 "metadata": {
  "kernelspec": {
   "display_name": "Python 3",
   "language": "python",
   "name": "python3"
  },
  "language_info": {
   "codemirror_mode": {
    "name": "ipython",
    "version": 3
   },
   "file_extension": ".py",
   "mimetype": "text/x-python",
   "name": "python",
   "nbconvert_exporter": "python",
   "pygments_lexer": "ipython3",
   "version": "3.8.0"
  }
 },
 "nbformat": 4,
 "nbformat_minor": 4
}
