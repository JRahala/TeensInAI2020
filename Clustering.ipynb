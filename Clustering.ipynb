{
 "cells": [
  {
   "cell_type": "markdown",
   "metadata": {},
   "source": [
    "# Clustering Algorithms\n",
    "\n",
    "## Could you please visit this link for today's notebook / work\n",
    "\n",
    "This kaggle notebook should get you used to working with notebooks in the popular data science platform kaggle as well as learning more independently.\n",
    "\n",
    "https://www.kaggle.com/fazilbtopal/popular-unsupervised-clustering-algorithms\n",
    "\n",
    "Thanks Jam"
   ]
  }
 ],
 "metadata": {
  "kernelspec": {
   "display_name": "Python 3",
   "language": "python",
   "name": "python3"
  },
  "language_info": {
   "codemirror_mode": {
    "name": "ipython",
    "version": 3
   },
   "file_extension": ".py",
   "mimetype": "text/x-python",
   "name": "python",
   "nbconvert_exporter": "python",
   "pygments_lexer": "ipython3",
   "version": "3.8.0"
  }
 },
 "nbformat": 4,
 "nbformat_minor": 4
}
